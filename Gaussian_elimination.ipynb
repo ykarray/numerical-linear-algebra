{
 "cells": [
  {
   "cell_type": "code",
   "execution_count": 99,
   "metadata": {
    "id": "fcgkq_OpVwVZ"
   },
   "outputs": [],
   "source": [
    "# Fonction d'élimination de Gauss\n",
    "def elimination_gauss(A, b):\n",
    "  n = len(b)\n",
    "\n",
    "  # Étape d'élimination\n",
    "  for i in range(n):\n",
    "    p=A[i][i]\n",
    "    for j in range(i, n):\n",
    "      A[i][j]= A[i][j]/p\n",
    "    b[i]=b[i]/p\n",
    "    for k in range(i+1, n):\n",
    "      m = A[k][i] / A[i][i]\n",
    "      for j in range(i, n):\n",
    "        A[k][j] -= m * A[i][j]\n",
    "      b[k] -= m * b[i] \n",
    "  return A, b\n",
    "\n",
    "# Fonction pour résoudre un système d'équations triangulaire supérieur\n",
    "def resolution_triangulaire_superieure(A, b):\n",
    "    n = len(b)\n",
    "    x = [0.0] * n\n",
    "\n",
    "    for i in range(n-1, -1, -1):\n",
    "        s = sum(A[i][j] * x[j] for j in range(i+1, n))\n",
    "        x[i] = (b[i] - s) / A[i][i]\n",
    "\n",
    "    return x\n",
    "\n",
    "# Fonction pour afficher la matrice A et le vecteur b\n",
    "def affichage(A, b):\n",
    "    for i in range(len(A)):\n",
    "        row = \"\"\n",
    "        for j in range(len(A[0])):\n",
    "            row += str(A[i][j]) + \" \"\n",
    "        row += \"| \" + str(b[i])\n",
    "        print(row)\n"
   ]
  },
  {
   "cell_type": "code",
   "execution_count": 100,
   "metadata": {
    "colab": {
     "base_uri": "https://localhost:8080/"
    },
    "id": "8lX4FioCyvpC",
    "outputId": "875217ee-03d6-43c4-a1af-1db16cc1a748"
   },
   "outputs": [
    {
     "name": "stdout",
     "output_type": "stream",
     "text": [
      "Matrice A et vecteur b:\n",
      "4 8 12 | 4\n",
      "3 8 13 | 5\n",
      "2 9 18 | 11\n",
      "Matrice A et vecteur b apres l'elimination de gauss:\n",
      "1.0 2.0 3.0 | 1.0\n",
      "0.0 1.0 2.0 | 1.0\n",
      "0.0 0.0 1.0 | 2.0\n",
      "resolution triangulaire superieur:\n",
      "[1.0, -3.0, 2.0]\n"
     ]
    }
   ],
   "source": [
    "A = [[4, 8, 12],\n",
    "     [3, 8, 13],\n",
    "     [2, 9, 18]]\n",
    "b = [4, 5, 11]\n",
    "print(\"Matrice A et vecteur b:\")\n",
    "affichage(A, b)\n",
    "A, b = elimination_gauss(A, b)\n",
    "print(\"Matrice A et vecteur b apres l'elimination de gauss:\")\n",
    "affichage(A, b)\n",
    "x = resolution_triangulaire_superieure(A, b)\n",
    "print(\"resolution triangulaire superieur:\")\n",
    "print(x)\n"
   ]
  },
  {
   "cell_type": "code",
   "execution_count": null,
   "metadata": {
    "id": "LxrwzZ_OtWf4"
   },
   "outputs": [],
   "source": []
  }
 ],
 "metadata": {
  "colab": {
   "provenance": []
  },
  "kernelspec": {
   "display_name": "Python 3 (ipykernel)",
   "language": "python",
   "name": "python3"
  },
  "language_info": {
   "codemirror_mode": {
    "name": "ipython",
    "version": 3
   },
   "file_extension": ".py",
   "mimetype": "text/x-python",
   "name": "python",
   "nbconvert_exporter": "python",
   "pygments_lexer": "ipython3",
   "version": "3.9.12"
  }
 },
 "nbformat": 4,
 "nbformat_minor": 1
}
